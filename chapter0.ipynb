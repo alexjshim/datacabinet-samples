{
 "cells": [
  {
   "cell_type": "markdown",
   "metadata": {
    "deletable": false,
    "editable": false,
    "nbgrader": {
     "checksum": "a5536cd4701a6224730048a31e07b996",
     "grade": false,
     "grade_id": "id0",
     "locked": true,
     "schema_version": 1,
     "solution": false
    },
    "nbpresent": {
     "id": "4584899e-cda0-429a-9597-a5ed0fe84a4b"
    },
    "slideshow": {
     "slide_type": "slide"
    }
   },
   "source": [
    "# Chapter 0\n",
    "### The Function (and other mathematical and computational preliminaries)"
   ]
  },
  {
   "cell_type": "markdown",
   "metadata": {
    "deletable": false,
    "editable": false,
    "nbgrader": {
     "checksum": "64b9d65c1f7eafb9d00b23ec47a665ff",
     "grade": false,
     "grade_id": "id1",
     "locked": true,
     "schema_version": 1,
     "solution": false
    },
    "nbpresent": {
     "id": "70271b04-d40e-4584-8204-a0b284c3c4fa"
    },
    "slideshow": {
     "slide_type": "slide"
    }
   },
   "source": [
    "# Set termininology and notation\n",
    "### Set \n",
    "Collection of mathematical objects where each object can occur at most once. These objects are its elements.\n",
    "{ &#9829; ,  &#9824; , &#9827; , &#9830;  } . There is no order\n",
    " \n",
    "$ \\in $ is used to indicate that an object belongs to a set\n",
    " \n",
    "$ S_1 \\subseteq S_2 $ if every member of S1 belongs to S2\n",
    "\n",
    "A convenient way to prove $S_1 = S_2 $ is to prove $ S_1 \\subseteq S_2 $ and $ S_2 \\subseteq S_1 $ \n",
    "\n",
    "A set can be infinite.  $\\mathbb{R}$(real numbers) and $\\mathbb{C}$(complex numbers)\n",
    "\n",
    "A set can be infinite.  $\\mathbb{R}$(real numbers) and $\\mathbb{C}$(complex numbers)\n",
    "\n",
    "If countable, number of elements is cardinality $ |S| $ . For eg, the cardinality of \n",
    "{ &#9829; ,  &#9824; , &#9827; , &#9830;  } is 4."
   ]
  },
  {
   "cell_type": "markdown",
   "metadata": {
    "deletable": false,
    "editable": false,
    "nbgrader": {
     "checksum": "0d3ef1c55ded42412765f1f6ef93d2f4",
     "grade": false,
     "grade_id": "id2",
     "locked": true,
     "schema_version": 1,
     "solution": false
    },
    "nbpresent": {
     "id": "69edd357-b220-4df4-9f37-76cd898a71a8"
    },
    "slideshow": {
     "slide_type": "slide"
    }
   },
   "source": [
    "# Cartesian Product\n",
    "The cartesian product of $A$ and $B$ is the set consisting of $(a,b)$ where $ a \\in A$ and $b \\in B$. \n",
    "\n",
    "For  A = { &#9829; ,  &#9824; , &#9827; , &#9830;  } and B = { 1, 2, 3} , the cartesian product is \n",
    "\n",
    "{(&#9829;, 1) ,  (&#9824;, 1) , (&#9827;, 1) , (&#9830;, 1), (&#9829;, 2) ,  (&#9824;, 2) , (&#9827;, 2) , (&#9830;, 2), (&#9829;, 3) ,  (&#9824;, 3) , (&#9827;, 3) , (&#9830;, 3)}\n",
    "\n",
    "Also, $| A \\times B | = | A | \\times | B |$ . The above case $| A | = 4 $ $| B | = 3 $ and $| A \\times B | = 12 $"
   ]
  },
  {
   "cell_type": "markdown",
   "metadata": {
    "deletable": false,
    "editable": false,
    "nbgrader": {
     "checksum": "b265f3ad96014947ba283a99c0e90deb",
     "grade": false,
     "grade_id": "id3",
     "locked": true,
     "schema_version": 1,
     "solution": false
    },
    "nbpresent": {
     "id": "0aa69145-9180-47cb-bf11-a77dd234f45d"
    },
    "slideshow": {
     "slide_type": "slide"
    }
   },
   "source": [
    "# Function\n",
    "\n",
    "$ f : D \\to F $\n",
    "\n",
    "$D$ is the domain $F$ is the co-domain . \n",
    "Not all elements of F to be mapped by f . \n",
    "\n",
    "Element $q \\in D$ mapped to $r \\in F$ by f $f(q) = r$. $r$ is called the image of $q$ and $q$ is called the pre-image of $r$\n",
    "\n",
    "Example 1 : Each letter is replaced with one 3 steps later. $ A \\to C , B\\to E ...$ . Domain is  { A, B, ... Z } , co-domain is {A, B, ... Z}\n",
    "\n",
    "Example 2 : cos $\\mathbb{R} \\to \\mathbb{R}$ Mark that the image only consists of values between -1 and 1\n",
    "\n",
    "Mathematical functions are not the same as computational procedure. \n",
    "Function does not specify how the mapping is happening. Many different procedures can satisfy the same input output spec (ordinary mul vs big number mul).\n",
    "\n",
    "Same procedure can be used for different functions, For ex, mul function can be used for multiplication between positive numbers($\\mathbb{R}_+, \\mathbb{R}_+ \\to \\mathbb{R}_+$) and also between negative numbers($\\mathbb{R}_-, \\mathbb{R}_- \\to \\mathbb{R}_+$).\n",
    "\n",
    "Each function gives rise to two computational problems:\n",
    "* The forward problem Given an element a of f's domain, compute f(a)\n",
    "* The backward problem Given an element r of f's co-domain, find the elment q such that f(q) = r \n",
    "\n",
    "Sometimes, the forward problem could be computationally easy but the backward problem may not be. For eg, integer multiplication. This pre-image problem is aggravated if the function is more general. Linear Algebra, we study the pre-image problem for the set of linear functions.\n",
    "\n",
    "Notation: For sets $D$ and $F$, $D^F$ is the set of all functions from F to D. For example, $ \\mathbb{R}^W $ is the set of all functions that map a word to a real number."
   ]
  },
  {
   "cell_type": "markdown",
   "metadata": {
    "deletable": false,
    "editable": false,
    "nbgrader": {
     "checksum": "a3d4e1e036404ceb07031dad3463c5ea",
     "grade": false,
     "grade_id": "id4",
     "locked": true,
     "schema_version": 1,
     "solution": false
    },
    "nbpresent": {
     "id": "d6ccc8e2-069d-48f0-abc0-b548016cc93b"
    },
    "slideshow": {
     "slide_type": "slide"
    }
   },
   "source": [
    "**Identity function** over any domain D is a function $id_D(d) = d$ for every $ d \\in D$\n",
    "\n",
    "**Composition function** Given two functions $ f \\in B^A $ and $ g \\in C^B $ , $h \\in C^A $ is a composition of $f$ and $g$ denoted by $ f \\circ g $ if for any element $x \\in A$ , $ h(x) = f(g(x)) $ . For eg, if $f(x) = x + 1$  and $g(y) = y ^ 2$ then $(f \\circ y)(z)= z^2 + 1 $\n",
    "\n",
    "**Associativity of function composition **\n",
    "$ (f \\circ (g \\circ h))(x) =  ((f \\circ g) \\circ h)(x) = f(g(h(x))) $ \n",
    "\n",
    "**Notes on inverse **\n",
    "A function $f$ is invertible means that there exists a functional inverse for the function $g$.\n",
    "\n",
    "$ f \\circ g$ is defined and is the identity function on the domain of g\n",
    "\n",
    "$ g \\circ f$ is defined and is the identity function on the domain of f\n",
    "\n",
    "The sufficient and necessary condition for a function $ f : D \\to F $ to be invertible is that it is one to one and onto. One to one means that if $f(x_1) = f(x_2)$, then $x_1 = x_2$. Onto means that for $ z \\in F $, there exists an $x$ such that $f(x) = z$\n",
    "\n",
    "Also, if $f$ and $g$ are invertible then $f \\circ g$ is invertible. "
   ]
  },
  {
   "cell_type": "markdown",
   "metadata": {
    "deletable": false,
    "editable": false,
    "nbgrader": {
     "checksum": "f422c862a9bdd25970d6a7e47615a18f",
     "grade": false,
     "grade_id": "id5",
     "locked": true,
     "schema_version": 1,
     "solution": false
    },
    "nbpresent": {
     "id": "2677f97d-61cc-485e-8732-e8fc44b5c863"
    },
    "slideshow": {
     "slide_type": "slide"
    }
   },
   "source": [
    "# Probability Distributions\n",
    "\n",
    "The function $Pr(\\dot)$ from a finite domain $\\sigma$ to the set $\\mathbb{R}_+ $ is a probability distribution if $\\sum_{\\omega \\in \\sigma} Pr(\\omega) = 1$ . We refer to the elements of the domain as outcomes. The image of an outcome under $Pr(\\dot)$ is called the probability of the outcome. In common sense terms, the probabilities are supposed to be proportional to the relative likelihoods of the outcomes.\n",
    "\n",
    "** Uniform distribution ** Coin toss, Dice roll. Where all outcomes have equal probabilites (opposite of Non-uniform distribution)\n",
    "\n",
    "** Event ** A set of outcomes is called an event. For example if there is a uniform probability of 1/26 of drawing any letter from a box of letters. Drawing the letter 'A' is an outcome whereas drawing a vowel('A', 'E' , 'I' , 'O' , 'U') is an event.\n",
    "\n",
    "** Fundamental principle of Probability Theory ** The probability of an event is the sum of the probabilities of the outcomes making the event.\n",
    "\n",
    "** Applying function to random input ** If the input to a function is random with a known probability distribution, we can use the \"Fundamental theorem of probability theory\" to find the distribution of the output. For eg, $f : {1, 2, 3, 4, 5, 6} \\to {0, 1} $ is defined by $ f(x) = 0 $ if x is even and 1 if x is odd . If all of ${1, 2, 3, 4, 5, 6}$ are equally probable or drawn from a uniform probability, then 0 and 1 outputs are both equally likely. Also, if a function is invertible, the probabilities are preserved.\n",
    "\n"
   ]
  },
  {
   "cell_type": "markdown",
   "metadata": {
    "collapsed": true,
    "deletable": false,
    "editable": false,
    "nbgrader": {
     "checksum": "56e7d2b122a6f66566ddb4b404b00575",
     "grade": false,
     "grade_id": "id6",
     "locked": true,
     "schema_version": 1,
     "solution": false
    },
    "nbpresent": {
     "id": "9a40dcf7-fec7-41fd-b2e8-cd058b9924e9"
    },
    "slideshow": {
     "slide_type": "slide"
    }
   },
   "source": [
    "# Perfect Secrecy\n",
    "\n",
    "A simple cryptosystem must satisfy two obvious requirements:\n",
    "\n",
    "* The intended recipient of an encrypted message must be able to decrypt it\n",
    "* Someone for whom the message was not intended should not be able to decrypt it\n",
    "\n",
    "Security through obscurity: The idea that one can keep the information secure by not revealing the method by which it was secured. Not good!\n",
    "\n",
    "Alice needs to tell Bob whether to go home(outcome 1) or not(outcome 0) by using one bit of information by using 1(0) or 2(1) lanterns. Eve should not know if Bob is going home even if she can see the lanterns. \n",
    "\n",
    "One potential (bad) scheme can be that they decide a key { &#9829; ,  &#9824; , &#9827; } between themselves (Eve does not know) and then use this table. Let suppose the function they use is : { ((&#9829; , 0), 0) ,((&#9829; , 1), 1), \n",
    "((&#9824; , 0), 1) ,((&#9824; , 1), 0) ((&#9827; , 1), 0) ,((&#9827; , 0), 1) } . Although this works Eve can figure out that if there is 1 lantern, Bob is likely to go by probability 2/3 and if there are 2 lanterns, by probablity 1/3.\n",
    "\n",
    "A better perfect secrecy scheme is {((&#9824; , 0), 1) ,((&#9827; , 0), 0) , ((&#9824; , 1), 0)  ,((&#9827; , 1), 1) } . Please note that the first two elements represent an invertible function over 0 and the second two elements represent an invertible function over 1. Knowing 0 or 1 output does not give any extra information to Eve about what is being encrypted. This is called perfect secrecy."
   ]
  },
  {
   "cell_type": "code",
   "execution_count": null,
   "metadata": {
    "deletable": false,
    "nbgrader": {
     "checksum": "336c4de1520e94c35c0ec54258ea783e",
     "grade": false,
     "grade_id": "id7",
     "locked": false,
     "schema_version": 1,
     "solution": true
    },
    "slideshow": {
     "slide_type": "skip"
    }
   },
   "outputs": [],
   "source": [
    "# version code 80e56511a793+\n",
    "# Please fill out this stencil and submit using the provided submission script.\n",
    "## 1: (Problem 0.8.3) Tuple Sum\n",
    "def tuple_sum(A, B):\n",
    "    '''\n",
    "    Input:\n",
    "      -A: a list of tuples\n",
    "      -B: a list of tuples\n",
    "    Output:\n",
    "      -list of pairs (x,y) in which the first element of the\n",
    "      ith pair is the sum of the first element of the ith pair in\n",
    "      A and the first element of the ith pair in B\n",
    "     '''\n",
    "# YOUR CODE HERE\n",
    "raise NotImplementedError()\n",
    "   \n",
    "assert(tuple_sum([(1,2), (10,20)],[(3,4), (30,40)]) == [(4, 6), (40, 60)])\n",
    "assert(tuple_sum([(0,1),(-1,0),(2,2)], [(3,4),(5,6),(7,8)]) == [(3, 5), (4, 6), (9, 10)])"
   ]
  },
  {
   "cell_type": "code",
   "execution_count": null,
   "metadata": {
    "deletable": false,
    "nbgrader": {
     "checksum": "f78911cdf239ad3ae57295d82c9c5bbb",
     "grade": false,
     "grade_id": "id8",
     "locked": false,
     "schema_version": 1,
     "solution": true
    },
    "slideshow": {
     "slide_type": "skip"
    }
   },
   "outputs": [],
   "source": [
    "# 2: (Problem 0.8.4) Inverse Dictionary\n",
    "def inv_dict(d):\n",
    "    '''\n",
    "    Input:\n",
    "      -d: dictionary representing an invertible function f\n",
    "    Output:\n",
    "      -dictionary representing the inverse of f, the returned dictionary's\n",
    "       keys are the values of d and its values are the keys of d\n",
    "    Example:\n",
    "    >>> inv_dict({'goodbye':  'au revoir', 'thank you': 'merci'}) == {'merci':'thank you', 'au revoir':'goodbye'}\n",
    "    '''\n",
    "# YOUR CODE HERE\n",
    "raise NotImplementedError()\n",
    "    \n",
    "print(inv_dict({'goodbye':  'au revoir', 'thank you': 'merci'}))\n",
    "assert (inv_dict({'goodbye':  'au revoir', 'thank you': 'merci'}) == {'merci':'thank you', 'au revoir':'goodbye'})"
   ]
  },
  {
   "cell_type": "code",
   "execution_count": null,
   "metadata": {
    "deletable": false,
    "nbgrader": {
     "checksum": "a8dc87d8feeff0894e8c42cf08ede421",
     "grade": false,
     "grade_id": "id9",
     "locked": false,
     "schema_version": 1,
     "solution": true
    },
    "slideshow": {
     "slide_type": "skip"
    }
   },
   "outputs": [],
   "source": [
    "## 3: (Problem 0.8.5) Nested Comprehension\n",
    "def row(p, n):\n",
    "    '''\n",
    "    Input:\n",
    "      -p: a number\n",
    "      -n: a number\n",
    "    Output:\n",
    "      - n-element list such that element i is p+i\n",
    "    Examples:\n",
    "    >>> row(10,4)\n",
    "    [10, 11, 12, 13]\n",
    "    '''\n",
    "# YOUR CODE HERE\n",
    "raise NotImplementedError()\n",
    "\n",
    "#Write a comprehension whose value is a 15 element list of 20 element lists such that \n",
    "#L\n",
    "#((x + 1) for x in L)\n",
    "#the jth element of the ith list is i + j (Use row)\n",
    "comprehension_with_row = None\n",
    "# YOUR CODE HERE\n",
    "raise NotImplementedError()\n",
    "\n",
    "## WRite the same comprehension without using row function\n",
    "\n",
    "comprehension_without_row = None\n",
    "# YOUR CODE HERE\n",
    "raise NotImplementedError()\n"
   ]
  },
  {
   "cell_type": "code",
   "execution_count": null,
   "metadata": {
    "collapsed": true,
    "deletable": false,
    "nbgrader": {
     "checksum": "02185e6f8c2566692dc568b4c7a55858",
     "grade": false,
     "grade_id": "id10",
     "locked": false,
     "schema_version": 1,
     "solution": true
    },
    "slideshow": {
     "slide_type": "skip"
    }
   },
   "outputs": [],
   "source": [
    "## 4: (Problem 0.8.10) Probability Exercise 1\n",
    "#A function f(x) = x + 1 with domain {1, 2, 3, 5, 6} and codomain {2,3,4,6,7} has the following probability \n",
    "#function on its domain: Pr(1) = .5, Pr(2) = .2, Pr (3) = Pr (5) = Pr(6) = .1\n",
    "\n",
    "Pr_f_is_even = None\n",
    "Pr_f_is_odd  = None\n",
    "# YOUR CODE HERE\n",
    "raise NotImplementedError()\n",
    "\n"
   ]
  },
  {
   "cell_type": "code",
   "execution_count": null,
   "metadata": {
    "collapsed": true,
    "deletable": false,
    "nbgrader": {
     "checksum": "90ce9184ff1d1afe0684f80b4355019f",
     "grade": false,
     "grade_id": "id11",
     "locked": false,
     "schema_version": 1,
     "solution": true
    },
    "slideshow": {
     "slide_type": "skip"
    }
   },
   "outputs": [],
   "source": [
    "## 5: (Problem 0.8.11) Probability Exercise 2\n",
    "# A function g(x) = x mod 3 with domain {1, 2, 3, 4, 5, 6, 7} and co-domain(0,1,2) \n",
    "# PR(1) = Pr(2) = Pr(3) = .2 rest are .1\n",
    "# What is the probability of getting 1 as the output of g(x)\n",
    "Pr_g_is_1    = None\n",
    "Pr_g_is_0or2 = None\n",
    "# YOUR CODE HERE\n",
    "raise NotImplementedError()\n"
   ]
  },
  {
   "cell_type": "code",
   "execution_count": null,
   "metadata": {
    "collapsed": true,
    "deletable": false,
    "nbgrader": {
     "checksum": "627d37f824f5bddd46ae57eb5f1d2a5c",
     "grade": false,
     "grade_id": "id12",
     "locked": false,
     "schema_version": 1,
     "solution": true
    },
    "slideshow": {
     "slide_type": "skip"
    }
   },
   "outputs": [],
   "source": [
    "## 1: (Task 0.5.1) Minutes in a Week\n",
    "minutes_in_week = None\n",
    "# YOUR CODE HERE\n",
    "raise NotImplementedError()\n"
   ]
  },
  {
   "cell_type": "code",
   "execution_count": null,
   "metadata": {
    "collapsed": true,
    "deletable": false,
    "nbgrader": {
     "checksum": "1de5aece89d793bd9f0919771726fb58",
     "grade": false,
     "grade_id": "id13",
     "locked": false,
     "schema_version": 1,
     "solution": true
    },
    "slideshow": {
     "slide_type": "skip"
    }
   },
   "outputs": [],
   "source": [
    "## 2: (Task 0.5.2) Remainder\n",
    "#For this task, your expression must use // (truncating integer division)\n",
    "# remainder of 2304811 divided by 47\n",
    "remainder_without_mod = None\n",
    "\n",
    "# YOUR CODE HERE\n",
    "raise NotImplementedError()\n"
   ]
  },
  {
   "cell_type": "code",
   "execution_count": null,
   "metadata": {
    "collapsed": true,
    "deletable": false,
    "nbgrader": {
     "checksum": "98156fca3d41ebc30078d870adadae4d",
     "grade": false,
     "grade_id": "id14",
     "locked": false,
     "schema_version": 1,
     "solution": true
    },
    "slideshow": {
     "slide_type": "skip"
    }
   },
   "outputs": [],
   "source": [
    "## 3: (Task 0.5.3) Divisibility\n",
    "# Enter a boolean expression to check whether the sum of 673 and 909 is divisible by 3\n",
    "divisible_by_3 = None\n",
    "\n",
    "# YOUR CODE HERE\n",
    "raise NotImplementedError()\n"
   ]
  },
  {
   "cell_type": "code",
   "execution_count": null,
   "metadata": {
    "collapsed": true,
    "deletable": false,
    "nbgrader": {
     "checksum": "9622b253d84437cf23e83b81eb85a6d4",
     "grade": false,
     "grade_id": "id15",
     "locked": false,
     "schema_version": 1,
     "solution": true
    },
    "slideshow": {
     "slide_type": "skip"
    }
   },
   "outputs": [],
   "source": [
    "## 4: (Task 0.5.4) Conditional Expression\n",
    "# Replace the ... with the expression \n",
    "x = -9\n",
    "y = 1/2\n",
    "## Predict the value of 2 ** (y + 1/2) if  x + 10 < 0 else 2 ** (y - 1/2)\n",
    "expression_val = None\n",
    "\n",
    "# YOUR CODE HERE\n",
    "raise NotImplementedError()\n",
    "\n"
   ]
  },
  {
   "cell_type": "code",
   "execution_count": null,
   "metadata": {
    "collapsed": true,
    "deletable": false,
    "nbgrader": {
     "checksum": "2acb805931fb60fa34063e2789abbce8",
     "grade": false,
     "grade_id": "id16",
     "locked": false,
     "schema_version": 1,
     "solution": true
    },
    "slideshow": {
     "slide_type": "skip"
    }
   },
   "outputs": [],
   "source": [
    "\n",
    "## 5: (Task 0.5.5) Squares Set Comprehension\n",
    "#first_five_squares = { ... for _ in {1,2,3,4,5} }\n",
    "first_five_squares = None\n",
    "\n",
    "# YOUR CODE HERE\n",
    "raise NotImplementedError()\n",
    "\n"
   ]
  },
  {
   "cell_type": "code",
   "execution_count": null,
   "metadata": {
    "collapsed": true,
    "deletable": false,
    "nbgrader": {
     "checksum": "f547cae9f92496f887d0985a5dc39973",
     "grade": false,
     "grade_id": "id17",
     "locked": false,
     "schema_version": 1,
     "solution": true
    },
    "slideshow": {
     "slide_type": "skip"
    }
   },
   "outputs": [],
   "source": [
    "## 6: (Task 0.5.6) Powers-of-2 Set Comprehension\n",
    "#first_five_pows_two = { ... for _ in {0,1,2,3,4} }\n",
    "\n",
    "# YOUR CODE HERE\n",
    "raise NotImplementedError()\n"
   ]
  },
  {
   "cell_type": "code",
   "execution_count": null,
   "metadata": {
    "deletable": false,
    "nbgrader": {
     "checksum": "53018bff230205afb44f312b8531ed8b",
     "grade": false,
     "grade_id": "id18",
     "locked": false,
     "schema_version": 1,
     "solution": true
    },
    "slideshow": {
     "slide_type": "skip"
    }
   },
   "outputs": [],
   "source": [
    "# 7: (Task 0.5.7) Double comprehension evaluating to nine-element set\n",
    "# Assign three-element sets to X1 and Y1 so that\n",
    "# {x*y for x in X1 for y in Y1} evaluates to a nine-element set.\n",
    "\n",
    "X1 = None\n",
    "Y1 = None\n",
    "\n",
    "# YOUR CODE HERE\n",
    "raise NotImplementedError()\n",
    "\n",
    "print({x*y for x in X1 for y in Y1})\n"
   ]
  },
  {
   "cell_type": "code",
   "execution_count": null,
   "metadata": {
    "deletable": false,
    "nbgrader": {
     "checksum": "62e1675b1d485ca58e45ed9458a8fffd",
     "grade": false,
     "grade_id": "id19",
     "locked": false,
     "schema_version": 1,
     "solution": true
    },
    "slideshow": {
     "slide_type": "skip"
    }
   },
   "outputs": [],
   "source": [
    "## 8: (Task 0.5.8) Double comprehension evaluating to five-element set\n",
    "# Assign disjoint three-element sets to X1 and Y1 so that\n",
    "# {x*y for x in X1 for y in Y1} evaluates to a five-element set.\n",
    "\n",
    "\n",
    "X1 = None\n",
    "Y1 = None\n",
    "# YOUR CODE HERE\n",
    "raise NotImplementedError()\n",
    "print({x*y for x in X1 for y in Y1})"
   ]
  },
  {
   "cell_type": "code",
   "execution_count": null,
   "metadata": {
    "deletable": false,
    "nbgrader": {
     "checksum": "1d56f869421ed7674f9ba0148490b291",
     "grade": false,
     "grade_id": "id20",
     "locked": false,
     "schema_version": 1,
     "solution": true
    },
    "slideshow": {
     "slide_type": "skip"
    }
   },
   "outputs": [],
   "source": [
    "## 9: (Task 0.5.9) Set intersection as a comprehension\n",
    "S = {1, 2, 3, 4}\n",
    "T = {3, 4, 5, 6}\n",
    "# Replace { ... } with a one-line set comprehension that evaluates to the intersection of S and T\n",
    "\n",
    "# YOUR CODE HERE\n",
    "raise NotImplementedError()\n",
    "\n",
    "print (S_intersect_T)\n",
    "\n"
   ]
  },
  {
   "cell_type": "code",
   "execution_count": null,
   "metadata": {
    "deletable": false,
    "nbgrader": {
     "checksum": "44f3998e14d627a274e106227b6128d7",
     "grade": false,
     "grade_id": "id21",
     "locked": false,
     "schema_version": 1,
     "solution": true
    },
    "slideshow": {
     "slide_type": "skip"
    }
   },
   "outputs": [],
   "source": [
    "## 10: (Task 0.5.10) Average\n",
    "list_of_numbers = [20, 10, 15, 75]\n",
    "# Replace ... with a one-line expression that evaluates to the average of list_of_numbers.\n",
    "# Your expression should refer to the variable list_of_numbers, and should work\n",
    "# for a list of any length greater than zero. Use sum\n",
    "\n",
    "list_average = None\n",
    "\n",
    "# YOUR CODE HERE\n",
    "raise NotImplementedError()\n",
    "print (list_average)\n",
    "\n",
    "\n"
   ]
  },
  {
   "cell_type": "code",
   "execution_count": null,
   "metadata": {
    "deletable": false,
    "nbgrader": {
     "checksum": "ac9a4d752bfc13bd3eea03652043ebde",
     "grade": false,
     "grade_id": "id22",
     "locked": false,
     "schema_version": 1,
     "solution": true
    }
   },
   "outputs": [],
   "source": [
    "## 11: (Task 0.5.11) Cartesian-product comprehension\n",
    "# Replace ... with a double list comprehension over ['A','B','C'] and [1,2,3]\n",
    "X = ['A','B','C']\n",
    "Y = [1,2,3]\n",
    "cartesian_product = None\n",
    "\n",
    "# YOUR CODE HERE\n",
    "raise NotImplementedError()\n",
    "\n",
    "print(cartesian_product)\n",
    "\n",
    "\n"
   ]
  },
  {
   "cell_type": "code",
   "execution_count": null,
   "metadata": {
    "deletable": false,
    "nbgrader": {
     "checksum": "3ad5311a14a7495e7cbc62de822c5d02",
     "grade": false,
     "grade_id": "id23",
     "locked": false,
     "schema_version": 1,
     "solution": true
    },
    "slideshow": {
     "slide_type": "skip"
    }
   },
   "outputs": [],
   "source": [
    "\n",
    "## 12: (Task 0.5.12) Sum of numbers in list of list of numbers\n",
    "LofL = [[.25, .75, .1], [-1, 0], [4, 4, 4, 4]]\n",
    "# Replace ... with a one-line expression of the form sum([sum(...) ... ]) that\n",
    "# includes a comprehension and evaluates to the sum of all numbers in all the lists.\n",
    "\n",
    "LofL_sum = None;\n",
    "\n",
    "# YOUR CODE HERE\n",
    "raise NotImplementedError()\n",
    "\n",
    "print (LofL_sum)\n"
   ]
  },
  {
   "cell_type": "code",
   "execution_count": null,
   "metadata": {
    "deletable": false,
    "nbgrader": {
     "checksum": "b250d4ffaf702740847e5fb338872bce",
     "grade": false,
     "grade_id": "id24",
     "locked": false,
     "schema_version": 1,
     "solution": true
    },
    "slideshow": {
     "slide_type": "skip"
    }
   },
   "outputs": [],
   "source": [
    "## 13: (Task 0.5.14) Three-element tuples summing to zero\n",
    "S = {-4, -2, 1, 2, 5, 0}\n",
    "# Replace [ ... ] with a one-line list comprehension in which S appears\n",
    "\n",
    "zero_sum_list = None\n",
    "\n",
    "# YOUR CODE HERE\n",
    "raise NotImplementedError()\n",
    " \n",
    "\n",
    "print (zero_sum_list)"
   ]
  },
  {
   "cell_type": "code",
   "execution_count": null,
   "metadata": {
    "collapsed": true,
    "deletable": false,
    "nbgrader": {
     "checksum": "aa388b9338a3750b89ee784f69675bbb",
     "grade": false,
     "grade_id": "id25",
     "locked": false,
     "schema_version": 1,
     "solution": true
    },
    "slideshow": {
     "slide_type": "skip"
    }
   },
   "outputs": [],
   "source": [
    "## 14: (Task 0.5.15) Nontrivial three-element tuples summing to zero\n",
    "S = {-4, -2, 1, 2, 5, 0}\n",
    "# Replace [ ... ] with a one-line list comprehension in which S appears\n",
    "zero_sum_list = None\n",
    "\n",
    "# YOUR CODE HERE\n",
    "raise NotImplementedError()\n",
    "\n",
    "print (zero_sum_list)\n",
    "\n"
   ]
  },
  {
   "cell_type": "code",
   "execution_count": null,
   "metadata": {
    "deletable": false,
    "nbgrader": {
     "checksum": "cbc6d17c6987b02ebac2d5037efea7b8",
     "grade": false,
     "grade_id": "id26",
     "locked": false,
     "schema_version": 1,
     "solution": true
    },
    "slideshow": {
     "slide_type": "skip"
    }
   },
   "outputs": [],
   "source": [
    "## 15: (Task 0.5.16) One nontrivial three-element tuple summing to zero\n",
    "S = {-4, -2, 1, 2, 5, 0}\n",
    "# Replace ... with a one-line expression that uses a list comprehension in which S appears\n",
    "first_of_tuples_list = None\n",
    "\n",
    "# YOUR CODE HERE\n",
    "raise NotImplementedError()\n",
    "\n",
    "print(first_of_tuples_list)\n"
   ]
  },
  {
   "cell_type": "code",
   "execution_count": null,
   "metadata": {
    "deletable": false,
    "nbgrader": {
     "checksum": "42daf159180cd78d2e151d196d9673e5",
     "grade": false,
     "grade_id": "id27",
     "locked": false,
     "schema_version": 1,
     "solution": true
    },
    "slideshow": {
     "slide_type": "skip"
    }
   },
   "outputs": [],
   "source": [
    "## 16: (Task 0.5.17) List and set differ\n",
    "# Assign to example_L a list such that len(example_L) != len(list(set(example_L)))\n",
    "\n",
    "example_L = None\n",
    "\n",
    "# YOUR CODE HERE\n",
    "raise NotImplementedError()\n",
    "\n",
    "print(len(example_L)) \n",
    "print(len(list(set(example_L))))\n",
    "\n"
   ]
  },
  {
   "cell_type": "code",
   "execution_count": null,
   "metadata": {
    "deletable": false,
    "nbgrader": {
     "checksum": "db4335712dd1b2432ac3f85bd28f7d18",
     "grade": false,
     "grade_id": "id28",
     "locked": false,
     "schema_version": 1,
     "solution": true
    },
    "slideshow": {
     "slide_type": "skip"
    }
   },
   "outputs": [],
   "source": [
    "## 17: (Task 0.5.18) Odd numbers\n",
    "# Replace {...} with a one-line set comprehension over a range of the form range(50)\n",
    "# to have all odd numbers between 0 and 100\n",
    "odd_num_list_range = None\n",
    "\n",
    "# YOUR CODE HERE\n",
    "raise NotImplementedError()\n",
    "\n",
    "print(odd_num_list_range)\n"
   ]
  },
  {
   "cell_type": "code",
   "execution_count": null,
   "metadata": {
    "deletable": false,
    "nbgrader": {
     "checksum": "8b329cdded1206ebe78cc51b45fe57b6",
     "grade": false,
     "grade_id": "id29",
     "locked": false,
     "schema_version": 1,
     "solution": true
    },
    "slideshow": {
     "slide_type": "skip"
    }
   },
   "outputs": [],
   "source": [
    "## 18: (Task 0.5.19) Using range and zip\n",
    "# In the line below, replace ... with an expression that does not include a comprehension.\n",
    "# Instead, it should use zip and range.\n",
    "# Note: zip() does not return a list. It returns an 'iterator of tuples'\n",
    "# range_and_zip (L) where L is ['A', 'B', 'C'] should return [('A', 0), ('B', 1) , ('C', 2)]\n",
    "\n",
    "L = ['A', 'B', 'C']\n",
    "\n",
    "# YOUR CODE HERE\n",
    "raise NotImplementedError()\n",
    "\n",
    "print(range_and_zip)\n",
    "print([x for x in range_and_zip])"
   ]
  },
  {
   "cell_type": "code",
   "execution_count": null,
   "metadata": {
    "deletable": false,
    "nbgrader": {
     "checksum": "a19877af9ea369e664156246e75543b3",
     "grade": false,
     "grade_id": "id30",
     "locked": false,
     "schema_version": 1,
     "solution": true
    },
    "slideshow": {
     "slide_type": "skip"
    }
   },
   "outputs": [],
   "source": [
    "## 19: (Task 0.5.20) Using zip to find elementwise sums\n",
    "A = [10, 25, 40]\n",
    "B = [1, 15, 20]\n",
    "# Replace [...] with a one-line comprehension that uses zip together with the variables A and B.\n",
    "# The comprehension should evaluate to a list whose ith element is the ith element of\n",
    "# A plus the ith element of B.\n",
    "list_sum_zip = None\n",
    "# YOUR CODE HERE\n",
    "raise NotImplementedError()\n",
    "print (list_sum_zip)"
   ]
  },
  {
   "cell_type": "code",
   "execution_count": null,
   "metadata": {
    "deletable": false,
    "nbgrader": {
     "checksum": "22dbacf924df8e12ca9db805dcf0b3a1",
     "grade": false,
     "grade_id": "id31",
     "locked": false,
     "schema_version": 1,
     "solution": true
    },
    "slideshow": {
     "slide_type": "skip"
    }
   },
   "outputs": [],
   "source": [
    "## 20: (Task 0.5.21) Extracting the value corresponding to key k from each dictionary in a list\n",
    "dlist = [{'James':'Sean', 'director':'Terence'}, {'James':'Roger', 'director':'Lewis'}, {'James':'Pierce', 'director':'Roger'}]\n",
    "k = 'James'\n",
    "# Replace [...] with a one-line comprehension that uses dlist and k\n",
    "# and that evaluates to ['Sean','Roger','Pierce']\n",
    "value_list = None\n",
    "# YOUR CODE HERE\n",
    "raise NotImplementedError()\n",
    "print (value_list)"
   ]
  },
  {
   "cell_type": "code",
   "execution_count": null,
   "metadata": {
    "deletable": false,
    "nbgrader": {
     "checksum": "68cb41f0d84fb31d572f06ff0648d0ef",
     "grade": false,
     "grade_id": "id32",
     "locked": false,
     "schema_version": 1,
     "solution": true
    },
    "slideshow": {
     "slide_type": "skip"
    }
   },
   "outputs": [],
   "source": [
    "## 21: (Task 0.5.22) Extracting the value corresponding to k when it exists\n",
    "dlist = [{'Bilbo':'Ian','Frodo':'Elijah'},{'Bilbo':'Martin','Thorin':'Richard'}]\n",
    "k = 'Bilbo'\n",
    "\n",
    "value_list_modified_1 = None\n",
    "# YOUR CODE HERE\n",
    "raise NotImplementedError()\n",
    "print(value_list_modified_1)\n",
    "\n",
    "k = 'Frodo'\n",
    "# YOUR CODE HERE\n",
    "raise NotImplementedError()\n",
    "print(value_list_modified_2) # <-- as you do here"
   ]
  },
  {
   "cell_type": "code",
   "execution_count": null,
   "metadata": {
    "deletable": false,
    "nbgrader": {
     "checksum": "8faf6fcc593616a455919199c0b9c531",
     "grade": false,
     "grade_id": "id33",
     "locked": false,
     "schema_version": 1,
     "solution": true
    },
    "slideshow": {
     "slide_type": "skip"
    }
   },
   "outputs": [],
   "source": [
    "## 22: (Task 0.5.23) A dictionary mapping integers to their squares\n",
    "# Replace {...} with a one-line dictionary comprehension (0, 1, 2 ... 9)\n",
    "\n",
    "square_dict = None\n",
    "# YOUR CODE HERE\n",
    "raise NotImplementedError()\n",
    "print(square_dict) \n",
    "print(square_dict[2])\n",
    "\n"
   ]
  },
  {
   "cell_type": "code",
   "execution_count": null,
   "metadata": {
    "deletable": false,
    "nbgrader": {
     "checksum": "32ed503506e9b1210ebfa1f84ca2b7f2",
     "grade": false,
     "grade_id": "id34",
     "locked": false,
     "schema_version": 1,
     "solution": true
    },
    "slideshow": {
     "slide_type": "skip"
    }
   },
   "outputs": [],
   "source": [
    "## 23: (Task 0.5.24) Making the identity function\n",
    "D = {'red','white','blue'}\n",
    "# Replace {...} with a one-line dictionary comprehension\n",
    "identity_dict = {}\n",
    "# YOUR CODE HERE\n",
    "raise NotImplementedError()\n",
    "print(identity_dict)"
   ]
  },
  {
   "cell_type": "code",
   "execution_count": null,
   "metadata": {
    "deletable": false,
    "nbgrader": {
     "checksum": "ab348d8dfca921cc7c1d92b2bafc78bc",
     "grade": false,
     "grade_id": "id35",
     "locked": false,
     "schema_version": 1,
     "solution": true
    },
    "slideshow": {
     "slide_type": "skip"
    }
   },
   "outputs": [],
   "source": [
    "## 24: (Task 0.5.25) Mapping integers to their representation over a given base\n",
    "base = 10\n",
    "digits = set(range(base))\n",
    "# Replace { ... } with a one-line dictionary comprehension\n",
    "# Your comprehension should use the variables 'base' and 'digits' so it will work correctly if these\n",
    "# are assigned different values (e.g. base = 2 and digits = {0,1})\n",
    "representation_dict = {}\n",
    "# YOUR CODE HERE\n",
    "raise NotImplementedError()\n",
    "print (representation_dict[89])\n"
   ]
  },
  {
   "cell_type": "code",
   "execution_count": null,
   "metadata": {
    "deletable": false,
    "nbgrader": {
     "checksum": "b21e3e3ba692b40a2b01a6d506045703",
     "grade": false,
     "grade_id": "id36",
     "locked": false,
     "schema_version": 1,
     "solution": true
    },
    "slideshow": {
     "slide_type": "skip"
    }
   },
   "outputs": [],
   "source": [
    "## 25: (Task 0.5.26) A dictionary mapping names to salaries\n",
    "id2salary = {0:1000.0, 1:1200.50, 2:990}\n",
    "names = ['Larry', 'Curly', 'Moe'] # by id\n",
    "# Replace { ... } with a one-line dictionary comprehension that uses id2salary and names.\n",
    "listdict2dict = { } # names to Salary\n",
    "# YOUR CODE HERE\n",
    "raise NotImplementedError()\n",
    "print(listdict2dict)"
   ]
  },
  {
   "cell_type": "code",
   "execution_count": null,
   "metadata": {
    "deletable": false,
    "nbgrader": {
     "checksum": "ed62b1971da1781fc0608dd6e2a3018c",
     "grade": false,
     "grade_id": "id37",
     "locked": false,
     "schema_version": 1,
     "solution": true
    },
    "slideshow": {
     "slide_type": "skip"
    }
   },
   "outputs": [],
   "source": [
    "\n",
    "## 26: (Task 0.5.28) Procedure nextInts\n",
    "# Complete the procedure definition by replacing [ ... ] with a one-line list comprehension\n",
    "# def nextInts(L): return [ ... ]\n",
    "# def nextInts(L): return 0\n",
    "# YOUR CODE HERE\n",
    "raise NotImplementedError()\n",
    "print (nextInts([4, 5]))"
   ]
  },
  {
   "cell_type": "code",
   "execution_count": null,
   "metadata": {
    "collapsed": true,
    "deletable": false,
    "nbgrader": {
     "checksum": "59f724bd9a076ddf7a3b19077e7047bb",
     "grade": false,
     "grade_id": "id38",
     "locked": false,
     "schema_version": 1,
     "solution": true
    },
    "slideshow": {
     "slide_type": "skip"
    }
   },
   "outputs": [],
   "source": [
    "## 27: (Task 0.5.29) Procedure cubes\n",
    "# Complete the procedure definition by replacing [ ... ] with a one-line list comprehension\n",
    "# def cubes(L): return [ ... ] \n",
    "# def cubes(L): return 0\n",
    "# YOUR CODE HERE\n",
    "raise NotImplementedError()\n"
   ]
  },
  {
   "cell_type": "code",
   "execution_count": null,
   "metadata": {
    "deletable": false,
    "nbgrader": {
     "checksum": "9d5e1b97143056dc5d05b221067521ed",
     "grade": false,
     "grade_id": "id39",
     "locked": false,
     "schema_version": 1,
     "solution": true
    },
    "slideshow": {
     "slide_type": "skip"
    }
   },
   "outputs": [],
   "source": [
    "## 28: (Task 0.5.30) Procedure dict2list\n",
    "# Input: a dictionary dct and a list keylist consisting of the keys of dct\n",
    "# Output: the list L such that L[i] is the value associated in dct with keylist[i]\n",
    "# Example: dict2list({'a':'A', 'b':'B', 'c':'C'},['b','c','a']) should equal ['B','C','A']\n",
    "# Complete the procedure definition by replacing [ ... ] with a one-line list comprehension\n",
    "# def dict2list(dct, keylist): return 0\n",
    "# YOUR CODE HERE\n",
    "raise NotImplementedError()\n",
    "print(dict2list({'a':'A', 'b':'B', 'c':'C'},['b','c','a']))"
   ]
  },
  {
   "cell_type": "code",
   "execution_count": null,
   "metadata": {
    "deletable": false,
    "nbgrader": {
     "checksum": "a7bedfbdcdfd4aa6419a6703c4a39247",
     "grade": false,
     "grade_id": "id40",
     "locked": false,
     "schema_version": 1,
     "solution": true
    },
    "slideshow": {
     "slide_type": "skip"
    }
   },
   "outputs": [],
   "source": [
    "\n",
    "## 29: (Task 0.5.31) Procedure list2dict\n",
    "# Input: a list L and a list keylist of the same length\n",
    "# Output: the dictionary that maps keylist[i] to L[i] for i=0,1,...len(L)-1\n",
    "# Example: list2dict(['A','B','C'],['a','b','c']) should equal {'a':'A', 'b':'B', 'c':'C'}\n",
    "# Complete the procedure definition by replacing { ... } with a one-line dictionary comprehension\n",
    "\n",
    "#def list2dict(L, keylist): return 0\n",
    "\n",
    "# YOUR CODE HERE\n",
    "raise NotImplementedError()\n",
    "print(list2dict(['A','B','C'],['a','b','c']))"
   ]
  },
  {
   "cell_type": "code",
   "execution_count": null,
   "metadata": {
    "collapsed": true,
    "deletable": false,
    "nbgrader": {
     "checksum": "5a28707f1cf51f542b3dfef66485167a",
     "grade": false,
     "grade_id": "id41",
     "locked": false,
     "schema_version": 1,
     "solution": true
    },
    "slideshow": {
     "slide_type": "skip"
    }
   },
   "outputs": [],
   "source": [
    "\n",
    "## 30: (Task 0.5.32) Generating all three-digit numbers over a given base\n",
    "# Complete the procedure definition by replacing { ... } with a one-line set comprehension\n",
    "#def all_3_digit_numbers(base, digits): return { ... }\n",
    "# YOUR CODE HERE\n",
    "raise NotImplementedError()\n"
   ]
  },
  {
   "cell_type": "code",
   "execution_count": null,
   "metadata": {
    "collapsed": true,
    "slideshow": {
     "slide_type": "skip"
    }
   },
   "outputs": [],
   "source": [
    "## 1: (Task 0.6.2) Movie Review\n",
    "## Task 1\n",
    "def movie_review(name):\n",
    "    \"\"\"\n",
    "    Input: the name of a movie\n",
    "    Output: a string (one of the review options), selected at random using randint\n",
    "    \"\"\"\n",
    "    return ...\n"
   ]
  },
  {
   "cell_type": "code",
   "execution_count": null,
   "metadata": {
    "collapsed": true,
    "slideshow": {
     "slide_type": "skip"
    }
   },
   "outputs": [],
   "source": [
    "## 2: (Task 0.6.6) Make Inverse Index\n",
    "def makeInverseIndex(strlist):\n",
    "    \"\"\"\n",
    "    Input: a list of documents as strings\n",
    "    Output: a dictionary that maps each word in any document to the set consisting of the\n",
    "            document ids (ie, the index in the strlist) for all documents containing the word.\n",
    "    Distinguish between an occurence of a string (e.g. \"use\") in the document as a word\n",
    "    (surrounded by spaces), and an occurence of the string as a substring of a word (e.g. \"because\").\n",
    "    Only the former should be represented in the inverse index.\n",
    "    Feel free to use a loop instead of a comprehension.\n",
    "\n",
    "    Example:\n",
    "    >>> makeInverseIndex(['hello world','hello','hello cat','hellolot of cats']) == {'hello': {0, 1, 2}, 'cat': {2}, 'of': {3}, 'world': {0}, 'cats': {3}, 'hellolot': {3}}\n",
    "    True\n",
    "    \"\"\"\n",
    "    pass\n"
   ]
  },
  {
   "cell_type": "code",
   "execution_count": null,
   "metadata": {
    "collapsed": true,
    "slideshow": {
     "slide_type": "skip"
    }
   },
   "outputs": [],
   "source": [
    "## 3: (Task 0.6.7) Or Search\n",
    "def orSearch(inverseIndex, query):\n",
    "    \"\"\"\n",
    "    Input: an inverse index, as created by makeInverseIndex, and a list of words to query\n",
    "    Output: the set of document ids that contain _any_ of the specified words\n",
    "    Feel free to use a loop instead of a comprehension.\n",
    "    \n",
    "    >>> idx = makeInverseIndex(['Johann Sebastian Bach', 'Johannes Brahms', 'Johann Strauss the Younger', 'Johann Strauss the Elder', ' Johann Christian Bach',  'Carl Philipp Emanuel Bach'])\n",
    "    >>> orSearch(idx, ['Bach','the'])\n",
    "    {0, 2, 3, 4, 5}\n",
    "    >>> orSearch(idx, ['Johann', 'Carl'])\n",
    "    {0, 2, 3, 4, 5}\n",
    "    >>> orSearch(idx, ['Johann', 'Bach', 'Sebastian'])\n",
    "    {0, 2, 3, 4, 5}\n",
    "    >>> idx == makeInverseIndex(['Johann Sebastian Bach', 'Johannes Brahms', 'Johann Strauss the Younger', 'Johann Strauss the Elder', ' Johann Christian Bach',  'Carl Philipp Emanuel Bach'])\n",
    "    True\n",
    "    \"\"\"\n",
    "    pass\n"
   ]
  },
  {
   "cell_type": "code",
   "execution_count": null,
   "metadata": {
    "collapsed": true,
    "slideshow": {
     "slide_type": "skip"
    }
   },
   "outputs": [],
   "source": [
    "\n",
    "## 4: (Task 0.6.8) And Search\n",
    "def andSearch(inverseIndex, query):\n",
    "    \"\"\"\n",
    "    Input: an inverse index, as created by makeInverseIndex, and a list of words to query\n",
    "    Output: the set of all document ids that contain _all_ of the specified words\n",
    "    Feel free to use a loop instead of a comprehension.\n",
    "\n",
    "    >>> idx = makeInverseIndex(['Johann Sebastian Bach', 'Johannes Brahms', 'Johann Strauss the Younger', 'Johann Strauss the Elder', ' Johann Christian Bach',  'Carl Philipp Emanuel Bach'])\n",
    "    >>> andSearch(idx, ['Johann', 'the'])\n",
    "    {2, 3}\n",
    "    >>> andSearch(idx, ['Johann', 'Bach'])\n",
    "    {0, 4}\n",
    "    >>> andSearch(idx, ['Johann', 'Bach', 'Sebastian'])\n",
    "    {0}\n",
    "    >>> idx == makeInverseIndex(['Johann Sebastian Bach', 'Johannes Brahms', 'Johann Strauss the Younger', 'Johann Strauss the Elder', ' Johann Christian Bach',  'Carl Philipp Emanuel Bach'])\n",
    "    True\n",
    "    \"\"\"\n",
    "    pass"
   ]
  },
  {
   "cell_type": "code",
   "execution_count": null,
   "metadata": {
    "collapsed": true,
    "deletable": false,
    "nbgrader": {
     "checksum": "2b28d718d2a47337ee82f7e035b378ab",
     "grade": false,
     "grade_id": "id42",
     "locked": false,
     "schema_version": 1,
     "solution": true
    },
    "slideshow": {
     "slide_type": "skip"
    }
   },
   "outputs": [],
   "source": [
    "#.0.8.6. \n",
    "# YOUR CODE HERE\n",
    "raise NotImplementedError()\n",
    "#.0.8.7. \n",
    "# YOUR CODE HERE\n",
    "raise NotImplementedError()\n",
    "\n",
    "#.0.8.8. \n",
    "\n",
    "#.0.8.9. \n",
    "\n",
    "# YOUR CODE HERE\n",
    "raise NotImplementedError()\n",
    "\n",
    "#.0.8.10. \n",
    "\n",
    "# YOUR CODE HERE\n",
    "raise NotImplementedError()\n",
    "\n",
    "#.0.8.11. \n",
    "\n",
    "# YOUR CODE HERE\n",
    "raise NotImplementedError()\n"
   ]
  }
 ],
 "metadata": {
  "kernelspec": {
   "display_name": "CodingTheMatrix3",
   "language": "python",
   "name": "codingthematrix3"
  },
  "language_info": {
   "codemirror_mode": {
    "name": "ipython",
    "version": 3
   },
   "file_extension": ".py",
   "mimetype": "text/x-python",
   "name": "python",
   "nbconvert_exporter": "python",
   "pygments_lexer": "ipython3",
   "version": "3.5.3"
  },
  "nbpresent": {
   "slides": {
    "0711b20c-0348-40af-a286-11b2a414a098": {
     "id": "0711b20c-0348-40af-a286-11b2a414a098",
     "prev": "59cfa5a8-c153-4123-8bbf-9b840974628b",
     "regions": {
      "55d41b2c-31c3-49ef-b64a-2268954bf312": {
       "attrs": {
        "height": 0.8,
        "width": 0.8,
        "x": 0.1,
        "y": 0.1
       },
       "content": {
        "cell": "d6ccc8e2-069d-48f0-abc0-b548016cc93b",
        "part": "whole"
       },
       "id": "55d41b2c-31c3-49ef-b64a-2268954bf312"
      }
     }
    },
    "3a1f8cec-6267-46ba-bea8-4b68e56991fc": {
     "id": "3a1f8cec-6267-46ba-bea8-4b68e56991fc",
     "prev": "0711b20c-0348-40af-a286-11b2a414a098",
     "regions": {
      "b22f6336-39b9-47ab-b7ef-c9cde876328e": {
       "attrs": {
        "height": 0.8,
        "width": 0.8,
        "x": 0.1,
        "y": 0.1
       },
       "content": {
        "cell": "2677f97d-61cc-485e-8732-e8fc44b5c863",
        "part": "whole"
       },
       "id": "b22f6336-39b9-47ab-b7ef-c9cde876328e"
      }
     }
    },
    "59cfa5a8-c153-4123-8bbf-9b840974628b": {
     "id": "59cfa5a8-c153-4123-8bbf-9b840974628b",
     "prev": "e2afdb35-94c0-46b2-ae1d-aae943ff39da",
     "regions": {
      "c3d14cb3-b899-4d74-8ba7-88db9e4a7b08": {
       "attrs": {
        "height": 0.8,
        "width": 0.8,
        "x": 0.1,
        "y": 0.1
       },
       "content": {
        "cell": "0aa69145-9180-47cb-bf11-a77dd234f45d",
        "part": "whole"
       },
       "id": "c3d14cb3-b899-4d74-8ba7-88db9e4a7b08"
      }
     }
    },
    "7dabc64f-d7e3-4152-8775-b78228cca61b": {
     "id": "7dabc64f-d7e3-4152-8775-b78228cca61b",
     "prev": "3a1f8cec-6267-46ba-bea8-4b68e56991fc",
     "regions": {
      "c1d0d965-c1d0-4df0-9ea1-a4a268ca3121": {
       "attrs": {
        "height": 0.8,
        "width": 0.8,
        "x": 0.1,
        "y": 0.1
       },
       "content": {
        "cell": "9a40dcf7-fec7-41fd-b2e8-cd058b9924e9",
        "part": "whole"
       },
       "id": "c1d0d965-c1d0-4df0-9ea1-a4a268ca3121"
      }
     }
    },
    "8b0300e4-02bd-42ae-81ee-9b1acad2ea6e": {
     "id": "8b0300e4-02bd-42ae-81ee-9b1acad2ea6e",
     "prev": "e221d238-60fc-46a7-8d13-70d445d8cf87",
     "regions": {
      "c7821360-c4c5-4c22-9120-25369b3e12a5": {
       "attrs": {
        "height": 0.8,
        "width": 0.8,
        "x": 0.1,
        "y": 0.1
       },
       "content": {
        "cell": "70271b04-d40e-4584-8204-a0b284c3c4fa",
        "part": "whole"
       },
       "id": "c7821360-c4c5-4c22-9120-25369b3e12a5"
      }
     }
    },
    "e221d238-60fc-46a7-8d13-70d445d8cf87": {
     "id": "e221d238-60fc-46a7-8d13-70d445d8cf87",
     "prev": null,
     "regions": {
      "741451c7-bf19-4156-9b4e-ac360e81f968": {
       "attrs": {
        "height": 0.8,
        "width": 0.8,
        "x": 0.1,
        "y": 0.1
       },
       "content": {
        "cell": "4584899e-cda0-429a-9597-a5ed0fe84a4b",
        "part": "whole"
       },
       "id": "741451c7-bf19-4156-9b4e-ac360e81f968"
      }
     }
    },
    "e2afdb35-94c0-46b2-ae1d-aae943ff39da": {
     "id": "e2afdb35-94c0-46b2-ae1d-aae943ff39da",
     "prev": "8b0300e4-02bd-42ae-81ee-9b1acad2ea6e",
     "regions": {
      "73205810-cfdb-41c8-be7f-94483847eadf": {
       "attrs": {
        "height": 0.8,
        "width": 0.8,
        "x": 0.1,
        "y": 0.1
       },
       "content": {
        "cell": "69edd357-b220-4df4-9f37-76cd898a71a8",
        "part": "whole"
       },
       "id": "73205810-cfdb-41c8-be7f-94483847eadf"
      }
     }
    }
   },
   "themes": {}
  }
 },
 "nbformat": 4,
 "nbformat_minor": 1
}
