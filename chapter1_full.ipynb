{
 "cells": [
  {
   "cell_type": "markdown",
   "metadata": {
    "nbgrader": {
     "grade": false,
     "grade_id": "id0",
     "locked": true,
     "schema_version": 1,
     "solution": false
    },
    "slideshow": {
     "slide_type": "slide"
    }
   },
   "source": [
    "# The Field"
   ]
  },
  {
   "cell_type": "code",
   "execution_count": 22,
   "metadata": {
    "collapsed": true,
    "nbgrader": {
     "grade": false,
     "grade_id": "id1",
     "locked": false,
     "schema_version": 1,
     "solution": true
    }
   },
   "outputs": [],
   "source": [
    "## 1: (Problem 1.7.1) Python Comprehensions: Filtering\n",
    "def myFilter(L, num):\n",
    "    '''\n",
    "    Input:\n",
    "      -L: a list of numbers\n",
    "      -num: a positive integer\n",
    "    Output:\n",
    "      -a list of numbers not containing a multiple of num\n",
    "    Examples:\n",
    "      >>> myFilter([1,2,4,5,7],2)\n",
    "      [1, 5, 7]\n",
    "      >>> myFilter([10,15,20,25],10)\n",
    "      [15, 25]\n",
    "    '''\n",
    "    ### BEGIN SOLUTION\n",
    "    return [x for x in L if x % num != 0]\n",
    "    ### END SOLUTION\n",
    "\n",
    "assert(myFilter([1,2,4,5,7],2) == [1, 5, 7])\n",
    "assert(myFilter([10,15,20,25],10) == [15, 25])\n"
   ]
  },
  {
   "cell_type": "code",
   "execution_count": 23,
   "metadata": {
    "nbgrader": {
     "grade": false,
     "grade_id": "id1_5",
     "locked": false,
     "schema_version": 1,
     "solution": true
    }
   },
   "outputs": [
    {
     "name": "stdout",
     "output_type": "stream",
     "text": [
      "VEVLZDLVEZW\n",
      "\n",
      "UFUKYCKUFYX\n",
      "\n",
      "XGXJBJXGU\n",
      "\n",
      "WHWI AIWH V\n",
      "\n",
      "RARPHPRAS\n",
      "\n",
      "QBQOGOQBT\n",
      "\n",
      "TCTNFNTCQ\n",
      "\n",
      "SDSMEMSDR\n",
      "\n",
      "MDRLDMR\n",
      "\n",
      "NCQKCNQ\n",
      "\n",
      "OBTJBOT\n",
      "\n",
      "PASIAPS\n",
      "\n",
      "ZIZHVPHZIV \n",
      "\n",
      "YJYGUOGYJU\n",
      "\n",
      "KFXNFKXY\n",
      "\n",
      " L EWME LWZ\n",
      "\n",
      "FUFJTFUJG\n",
      "\n",
      "EVE IS EVIH\n",
      "\n",
      "HWHZLRZHWLE\n",
      "\n",
      "GXGYKQYGXKF\n",
      "\n",
      "BQBNXBQNC\n",
      "\n",
      "ARAMWARMD\n",
      "\n",
      "DSDPVDSPA\n",
      "\n",
      "CTCOUCTOB\n",
      "\n",
      "NNTBTNBO\n",
      "\n",
      "MMSA SMAP\n",
      "\n"
     ]
    }
   ],
   "source": [
    "#Problem 1.5.1: An 11 symbol message has been encrypted as follows. Each symbol is represented by a number \n",
    "#    between 0 and 26(A -> 0, B-> 1 ... Z->25 space -> 26) . Each number is represented by a five-bit \n",
    "#    binary sequence (0->00000, 1-> 00001, 2->00010 ... 26-> 11010). Finally the resulting sequence of 55 bits is encrypted \n",
    "#    a flawed version of the one-time pad: the key is not 55 random bits but 11 copies of the same sequence of 5 random bits.\n",
    "#    The ciphertext is \n",
    "\n",
    "# 10101 00100 10101 01011 11001 00011 01011 10101 00100 11001 11010\n",
    "\n",
    "# Try to find the plaintext\n",
    "\n",
    "### BEGIN SOLUTION\n",
    "import sys\n",
    "all_codes = [21, 4, 21, 11 , 25, 3 , 11, 21, 4, 25, 22]\n",
    "alphabets = \"ABCDEFGHIJKLMNOPQRSTUVWXYZ \"\n",
    "for x in range(26):\n",
    "    [sys.stdout.write(alphabets[(code ^ x)]) for code in all_codes if (code ^ x) < 27]\n",
    "    print (\"\\n\")\n",
    "    sys.stdout.flush()\n",
    "### END SOLUTION\n"
   ]
  },
  {
   "cell_type": "code",
   "execution_count": 5,
   "metadata": {
    "nbgrader": {
     "grade": false,
     "grade_id": "id2",
     "locked": false,
     "schema_version": 1,
     "solution": true
    }
   },
   "outputs": [
    {
     "name": "stdout",
     "output_type": "stream",
     "text": [
      "Serious?\n"
     ]
    }
   ],
   "source": [
    "## 2: (Problem 1.7.2) Python Comprehensions: Lists of Lists\n",
    "\n",
    "def my_lists(L):\n",
    "    '''\n",
    "    >>> my_lists([1,2,4])\n",
    "    [[1], [1, 2], [1, 2, 3, 4]]\n",
    "    >>> my_lists([0,3])\n",
    "    [[], [1, 2, 3]]\n",
    "    '''\n",
    "    ### BEGIN SOLUTION\n",
    "    return [[x+1 for x in range(x)] for x in L]\n",
    "    ### END SOLUTION\n",
    "assert(my_lists([1,2,4]) == [[1], [1, 2], [1, 2, 3, 4]])\n",
    "assert(my_lists([0,3]) == [[], [1, 2, 3]])"
   ]
  },
  {
   "cell_type": "code",
   "execution_count": 11,
   "metadata": {
    "collapsed": true,
    "nbgrader": {
     "grade": false,
     "grade_id": "id3",
     "locked": false,
     "schema_version": 1,
     "solution": true
    }
   },
   "outputs": [],
   "source": [
    "## 3: (Problem 1.7.3) Python Comprehensions: Function Composition\n",
    "def myFunctionComposition(f, g):\n",
    "    '''\n",
    "    Input:\n",
    "      -f: a function represented as a dictionary such that g of f exists\n",
    "      -g: a function represented as a dictionary such that g of f exists\n",
    "    Output:\n",
    "      -a dictionary that represents a function g of f\n",
    "    Examples:\n",
    "      >>> f = {0:'a',1:'b'}\n",
    "      >>> g = {'a':'apple','b':'banana'}\n",
    "      >>> myFunctionComposition(f,g) == {0:'apple',1:'banana'}\n",
    "      True\n",
    "\n",
    "      >>> a = {'x':24,'y':25}\n",
    "      >>> b = {24:'twentyfour',25:'twentyfive'}\n",
    "      >>> myFunctionComposition(a,b) == {'x':'twentyfour','y':'twentyfive'}\n",
    "      True\n",
    "    '''\n",
    "    ### BEGIN SOLUTION\n",
    "    return { a : g[f[a]] for a in f.keys() }\n",
    "    ### END SOLUTION\n",
    "\n",
    "f = {0:'a',1:'b'}\n",
    "g = {'a':'apple','b':'banana'}\n",
    "assert(myFunctionComposition(f,g) == {0:'apple',1:'banana'})"
   ]
  },
  {
   "cell_type": "code",
   "execution_count": 14,
   "metadata": {
    "collapsed": true,
    "nbgrader": {
     "grade": false,
     "grade_id": "id4",
     "locked": false,
     "schema_version": 1,
     "solution": true
    }
   },
   "outputs": [],
   "source": [
    "from functools import reduce\n",
    "# 4: (Problem 1.7.4) Summing numbers in a list\n",
    "def mySum(L):\n",
    "    '''\n",
    "    Input:\n",
    "      a list L of numbers\n",
    "    Output:\n",
    "      sum of the numbers in L\n",
    "Be sure your procedure works for the empty list.\n",
    "    Examples:\n",
    "      >>> mySum([1,2,3,4])\n",
    "      10\n",
    "      >>> mySum([3,5,10])\n",
    "      18\n",
    "    '''\n",
    "    ### BEGIN SOLUTION\n",
    "    return reduce((lambda x, y: x + y), L)\n",
    "    ### END SOLUTION\n",
    "assert(mySum([1,2,3,4]) == 10)"
   ]
  },
  {
   "cell_type": "code",
   "execution_count": 17,
   "metadata": {
    "nbgrader": {
     "grade": false,
     "grade_id": "id5",
     "locked": false,
     "schema_version": 1,
     "solution": true
    }
   },
   "outputs": [
    {
     "name": "stdout",
     "output_type": "stream",
     "text": [
      "15\n"
     ]
    }
   ],
   "source": [
    "from functools import reduce\n",
    "## 5: (Problem 1.7.5) Multiplying numbers in a list\n",
    "def myProduct(L):\n",
    "    '''\n",
    "    Input:\n",
    "      -L: a list of numbers\n",
    "    Output:\n",
    "      -the product of the numbers in L\n",
    "Be sure your procedure works for the empty list.\n",
    "    Examples:\n",
    "      >>> myProduct([1,3,5])\n",
    "      15\n",
    "      >>> myProduct([-3,2,4])\n",
    "      -24\n",
    "    '''\n",
    "    ### BEGIN SOLUTION\n",
    "    return reduce((lambda x, y: x * y), L)\n",
    "    ### END SOLUTION\n",
    "\n",
    "print(myProduct([1,3,5]))\n",
    "assert(myProduct([1,3,5]) == 15)"
   ]
  },
  {
   "cell_type": "code",
   "execution_count": 18,
   "metadata": {
    "collapsed": true,
    "nbgrader": {
     "grade": false,
     "grade_id": "id6",
     "locked": false,
     "schema_version": 1,
     "solution": true
    }
   },
   "outputs": [],
   "source": [
    "from functools import reduce\n",
    "# 6: (Problem 1.7.6) Minimum of a list\n",
    "def myMin(L):\n",
    "    '''\n",
    "    Input:\n",
    "      a list L of numbers\n",
    "    Output:\n",
    "      the minimum number in L\n",
    "Be sure your procedure works for the empty list.\n",
    "Hint: The value of the Python expression float('infinity') is infinity.\n",
    "    Examples:\n",
    "    >>> myMin([1,-100,2,3])\n",
    "    -100\n",
    "    >>> myMin([0,3,5,-2,-5])\n",
    "    -5\n",
    "    '''\n",
    "    ### BEGIN SOLUTION\n",
    "    def min(x, y):\n",
    "      if (x < y) :\n",
    "        return x\n",
    "      else:\n",
    "        return y\n",
    "    \n",
    "    return reduce(min, L)\n",
    "    ### END SOLUTION\n",
    "    \n",
    "assert(myMin([1,-100,2,3]) == -100 )"
   ]
  },
  {
   "cell_type": "code",
   "execution_count": 20,
   "metadata": {
    "collapsed": true,
    "nbgrader": {
     "grade": false,
     "grade_id": "id7",
     "locked": false,
     "schema_version": 1,
     "solution": true
    }
   },
   "outputs": [],
   "source": [
    "from functools import reduce\n",
    "## 7: (Problem 1.7.7) Concatenation of a List\n",
    "def myConcat(L):\n",
    "    '''\n",
    "    Input:\n",
    "      -L:a list of strings\n",
    "    Output:\n",
    "      -the concatenation of all the strings in L\n",
    "Be sure your procedure works for the empty list.\n",
    "    Examples:\n",
    "    >>> myConcat(['hello','world'])\n",
    "    'helloworld'\n",
    "    >>> myConcat(['what','is','up'])\n",
    "    'whatisup'\n",
    "    '''\n",
    "    ### BEGIN SOLUTION\n",
    "    return reduce((lambda x, y: x + y), L)\n",
    "    ### END SOLUTION\n",
    "\n",
    "assert(myConcat(['hello','world']) == 'helloworld')"
   ]
  },
  {
   "cell_type": "code",
   "execution_count": 21,
   "metadata": {
    "collapsed": true,
    "nbgrader": {
     "grade": false,
     "grade_id": "id8",
     "locked": false,
     "schema_version": 1,
     "solution": true
    }
   },
   "outputs": [],
   "source": [
    "from functools import reduce\n",
    "## 8: (Problem 1.7.8) Union of Sets in a List\n",
    "def myUnion(L):\n",
    "    '''\n",
    "    Input:\n",
    "      -L:a list of sets\n",
    "    Output:\n",
    "      -the union of all sets in L\n",
    "Be sure your procedure works for the empty list.\n",
    "    Examples:\n",
    "    >>> myUnion([{1,2},{2,3}])\n",
    "    {1, 2, 3}\n",
    "    >>> myUnion([set(),{3,5},{3,5}])\n",
    "    {3, 5}\n",
    "    '''\n",
    "    ### BEGIN SOLUTION\n",
    "    return reduce((lambda x, y: x | y), L)\n",
    "    ### END SOLUTION\n",
    "    \n",
    "assert(myUnion([{1,2},{2,3}]) == {1, 2, 3})"
   ]
  },
  {
   "cell_type": "code",
   "execution_count": null,
   "metadata": {
    "collapsed": true,
    "nbgrader": {
     "grade": false,
     "grade_id": "id9",
     "locked": false,
     "schema_version": 1,
     "solution": true
    }
   },
   "outputs": [],
   "source": [
    "## 9: (Problem 1.7.10) Complex Addition Practice\n",
    "# Each answer should be a Python expression whose value is a complex number.\n",
    "\n",
    "complex_addition_a = None\n",
    "complex_addition_b = None\n",
    "complex_addition_c = None\n",
    "complex_addition_d = None\n",
    "\n",
    "### BEGIN SOLUTION\n",
    "complex_addition_a = 5 + 3j\n",
    "complex_addition_b = 1j\n",
    "complex_addition_c = -1 + .001j\n",
    "complex_addition_d = .001 + 9j\n",
    "### END SOLUTION\n",
    "\n"
   ]
  },
  {
   "cell_type": "code",
   "execution_count": null,
   "metadata": {
    "collapsed": true,
    "nbgrader": {
     "grade": false,
     "grade_id": "id10",
     "locked": false,
     "schema_version": 1,
     "solution": true
    }
   },
   "outputs": [],
   "source": [
    "## 10: (Problem 1.7.12) Combining Complex Operations\n",
    "#Write a procedure that evaluates ax+b for all elements in L\n",
    "\n",
    "def transform(a, b, L):\n",
    "    '''\n",
    "    Input:\n",
    "      -a: a number\n",
    "      -b: a number\n",
    "      -L: a list of numbers\n",
    "    Output:\n",
    "      -a list of elements where each element is ax+b where x is an element in L\n",
    "    Examples:\n",
    "    >>> transform(3,2,[1,2,3])\n",
    "    [5, 8, 11]\n",
    "    '''\n",
    "    ### BEGIN SOLUTION\n",
    "    return [ a * x + b for x in L]\n",
    "    ### END SOLUTION\n"
   ]
  },
  {
   "cell_type": "code",
   "execution_count": null,
   "metadata": {
    "collapsed": true,
    "nbgrader": {
     "grade": false,
     "grade_id": "id11",
     "locked": false,
     "schema_version": 1,
     "solution": true
    }
   },
   "outputs": [],
   "source": [
    "GF2_sum_1 = None\n",
    "GF2_sum_2 = None\n",
    "GF2_sum_3 = None\n",
    "### BEGIN SOLUTION\n",
    "## 11: (Problem 1.7.13) GF(2) Arithmetic\n",
    "GF2_sum_1 = 1 # answer with 0 or 1\n",
    "GF2_sum_2 = 0\n",
    "GF2_sum_3 = 0\n",
    "### END SOLUTION\n"
   ]
  }
 ],
 "metadata": {
  "anaconda-cloud": {},
  "celltoolbar": "Create Assignment",
  "kernelspec": {
   "display_name": "CodingTheMatrix3",
   "language": "python",
   "name": "codingthematrix3"
  },
  "language_info": {
   "codemirror_mode": {
    "name": "ipython",
    "version": 3
   },
   "file_extension": ".py",
   "mimetype": "text/x-python",
   "name": "python",
   "nbconvert_exporter": "python",
   "pygments_lexer": "ipython3",
   "version": "3.5.3"
  }
 },
 "nbformat": 4,
 "nbformat_minor": 2
}
