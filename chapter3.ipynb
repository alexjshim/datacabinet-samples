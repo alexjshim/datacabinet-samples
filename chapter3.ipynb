{
 "cells": [
  {
   "cell_type": "markdown",
   "metadata": {
    "collapsed": true
   },
   "source": [
    "# The Vector Space\n"
   ]
  },
  {
   "cell_type": "markdown",
   "metadata": {},
   "source": [
    "## Linear combination\n",
    "\n",
    "Suppose $v1, v2 ... vn$ be vectors. We define a linear combination of $v1, v2 ... vn$ to be the sum\n",
    "$ \\alpha_1 * v1 + \\alpha_2 * v2 ... \\alpha_n * vn$ where $\\alpha_i$ is a scalar.\n",
    "\n",
    "The forward problem : Given $v1, v2 ... vn$ and $\\alpha_1, \\alpha_2 ... \\alpha_n$ Find the linear combination $b$, easy\n",
    "The backward problem : Given $v1, v2 ... vn$ and $b$, find $\\alpha_1, \\alpha_2 ... \\alpha_n$"
   ]
  },
  {
   "cell_type": "markdown",
   "metadata": {},
   "source": [
    "## Span \n",
    "The set of all linear combinations of vectors $v1, v2 ... vn$ is called the span of these vectors."
   ]
  },
  {
   "cell_type": "markdown",
   "metadata": {},
   "source": [
    "#### A system of Linear Equations $ a_1 * x = \\beta_1, a_2 * x = \\beta_2, ... a_n * x = \\beta_n$.\n",
    "\n",
    "Then it also implies that $ \\alpha_1 * a_1 + \\alpha_2 * a_2 ... \\alpha_n * a_n = \\alpha_1 * \\beta_1 + \\alpha_2 * \\beta_2 ... \\alpha_n * \\beta_n$\n"
   ]
  },
  {
   "cell_type": "markdown",
   "metadata": {},
   "source": [
    "## Generator\n",
    "\n",
    "Let $V$ be a set of vectors. If $v1, v2 ... vn$ are vectors such that $V$ = Span($v1, v2 ... vn$), the $v1, v2 ... vn$ are generators of $V$"
   ]
  },
  {
   "cell_type": "markdown",
   "metadata": {},
   "source": [
    "Standard Generators\n",
    "\n",
    "For a $F^D$, for each $k \\in D$, $e_k$ maps k to 1 and maps all other domains to zero. It spans all of $F^D$"
   ]
  },
  {
   "cell_type": "markdown",
   "metadata": {},
   "source": [
    "## Geometry of set of vectors\n",
    "in $R^3$\n",
    "* The span of 0 vectors forms a point 0 \n",
    "* The span of 1 non-zero vectors forms a line through origin\n",
    "* The span of 2 two non-zero independent vectors forms a plane through origin\n",
    "\n",
    "* The span of k vectors over R forms a k(or less)-dimensional flat containing the origin \n",
    "\n",
    "A linear system with all right hand sides zero is called a homogeneous linear system\n",
    "A flat containing the origin is the solution set of a homogeneous linear system. \n",
    "Therefore a flat containing the origin is a span of some vectors or a solution of a set of homogeneous linear system."
   ]
  },
  {
   "cell_type": "markdown",
   "metadata": {},
   "source": [
    "## Vector spaces $V$\n",
    "### Contains the 0 vector\n",
    "### For every $v \\in V$, all $\\alpha * v \\in V $\n",
    "### For every $v \\in V$ and $u \\in U$, $u + v \\in V $\n",
    "\n",
    "\n",
    "A flat that contains the origin can be written as the span of some vectors or as a solution of the homogeneous linear system, and the flat is a vector space. "
   ]
  },
  {
   "cell_type": "markdown",
   "metadata": {},
   "source": [
    "## Subspaces\n",
    "\n",
    "If $V$ and $W$ are vector spaces and $V$ is a subset of $W$, the $V$ is a subspace of $W$."
   ]
  },
  {
   "cell_type": "markdown",
   "metadata": {
    "collapsed": true
   },
   "source": [
    "# Affine Spaces\n",
    "\n",
    "Flats that do not go through origin(a line or a plane)\n",
    "\n",
    "## Representation 1: \n",
    "Can also be written as {$a$ + $v$ : $v \\in V$}\n",
    "\n",
    "## Representation 2: Affine Combination\n",
    "$ \\alpha_1 * v1 + \\alpha_2 * v2 ... \\alpha_n * vn$ is an affine combination if $ \\alpha_1 + \\alpha_2  ... \\alpha_n  = 1$\n",
    "\n",
    "A solution to a linear system of equations that is not homogeneous is an affine space. It can be represented as $u$ + $V$ where $V$ is a vector space represeted by the homogeneous linear system within the original linear system(with zeros in place of the constant). This leads to the result that there is a unique solution to a set of linear equations if the vector space $V$ is the zero vector. \n",
    "\n",
    "Sometimes we need to convert between the two representations to solve particular problems."
   ]
  },
  {
   "cell_type": "code",
   "execution_count": null,
   "metadata": {
    "collapsed": true
   },
   "outputs": [],
   "source": []
  }
 ],
 "metadata": {
  "kernelspec": {
   "display_name": "nbgrader",
   "language": "python",
   "name": "nbgrader"
  },
  "language_info": {
   "codemirror_mode": {
    "name": "ipython",
    "version": 3
   },
   "file_extension": ".py",
   "mimetype": "text/x-python",
   "name": "python",
   "nbconvert_exporter": "python",
   "pygments_lexer": "ipython3",
   "version": "3.5.3"
  }
 },
 "nbformat": 4,
 "nbformat_minor": 2
}
